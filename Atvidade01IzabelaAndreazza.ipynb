{
  "nbformat": 4,
  "nbformat_minor": 0,
  "metadata": {
    "colab": {
      "provenance": []
    },
    "kernelspec": {
      "name": "python3",
      "display_name": "Python 3"
    },
    "language_info": {
      "name": "python"
    }
  },
  "cells": [
    {
      "cell_type": "markdown",
      "source": [
        "###Universidade do Vale do Itajaí\n",
        "###Disciplina: Introdução à Programação em Python\n",
        "###Professor: Evandro Chagas Ribeiro da Rosa\n",
        "###Aluna: Izabela Andreazza\n",
        "###Atividade 01"
      ],
      "metadata": {
        "id": "OvmnfliRYGaW"
      }
    },
    {
      "cell_type": "markdown",
      "source": [
        "1. **Converta a seguinte expressão matemática para Python:** (5 * (10 - 4)^2) / (3^3 + 2) - 1"
      ],
      "metadata": {
        "id": "qzbcHFVEb4rC"
      }
    },
    {
      "cell_type": "code",
      "execution_count": 4,
      "metadata": {
        "colab": {
          "base_uri": "https://localhost:8080/"
        },
        "id": "NoIcPbD5X489",
        "outputId": "7d369408-a910-423b-a122-238058496e36"
      },
      "outputs": [
        {
          "output_type": "stream",
          "name": "stdout",
          "text": [
            "Resultado: 5.206896551724138\n"
          ]
        }
      ],
      "source": [
        "numerador = 5 * (10 - 4) ** 2\n",
        "denominador = 3 ** 3 + 2\n",
        "resultado = numerador / denominador - 1\n",
        "\n",
        "print(\"Resultado:\", resultado)"
      ]
    },
    {
      "cell_type": "markdown",
      "source": [
        "###Explicao do que está acontecendo e a lógica:\n",
        "Foi separado o numerador e o denominador e realizadas as operacoes separadamente, depois divindo um pelo outro e então subtraindo por 1."
      ],
      "metadata": {
        "id": "J0gwokmapo2W"
      }
    },
    {
      "cell_type": "markdown",
      "source": [
        "2. **Calcule a distância entre os pontos e, utilizando a fórmula:**\n",
        "√((x2 - x1)² + (y2 - y1)²)"
      ],
      "metadata": {
        "id": "S0WQdaRbdtGw"
      }
    },
    {
      "cell_type": "code",
      "source": [
        "#coordenadas\n",
        "x1, y1 = 3, 4\n",
        "x2, y2 = 7, 1\n",
        "\n",
        "#diferenças ao quadrado\n",
        "dx = (x2 - x1) ** 2\n",
        "dy = (y2 - y1) ** 2\n",
        "\n",
        "#raiz quadrada\n",
        "distancia = (dx + dy) ** 0.5\n",
        "\n",
        "print(\"Distância entre os pontos:\", distancia)\n"
      ],
      "metadata": {
        "colab": {
          "base_uri": "https://localhost:8080/"
        },
        "id": "vA3MNlZNd4_I",
        "outputId": "4a117188-9bb6-446a-dcae-c7e72dc71325"
      },
      "execution_count": 2,
      "outputs": [
        {
          "output_type": "stream",
          "name": "stdout",
          "text": [
            "Distância entre os pontos: 5.0\n"
          ]
        }
      ]
    },
    {
      "cell_type": "markdown",
      "source": [
        "###Explicao do que está acontecendo e a lógica:\n",
        "Primeiro foram declaradas os valores das variáveis.\n",
        "Então foi realizadas as diferencas entre eles, depois fazendo o  resultado ao quadrado.\n",
        "E por fim fazendo a raiz quadrada dos dois resultados somados."
      ],
      "metadata": {
        "id": "hmBrxa0VqUSY"
      }
    },
    {
      "cell_type": "markdown",
      "source": [
        "Usando Newton-Raphson:"
      ],
      "metadata": {
        "id": "QBFVOfHUqiDg"
      }
    },
    {
      "cell_type": "code",
      "source": [
        "x1, y1 = 3, 4\n",
        "x2, y2 = 7, 1\n",
        "\n",
        "#calcula o valor dentro da raiz\n",
        "valor = (x2 - x1) ** 2 + (y2 - y1) ** 2\n",
        "\n",
        "#aplica o método de Newton-Raphson\n",
        "x = valor  #chute inicial (pode ser valor, ou valor / 2 etc)\n",
        "\n",
        "#vai realizar algumas iterações para aproximar a raiz quadrada\n",
        "for _ in range(10):  #7 iteracoes feitas em um for loop pra se aproximar no valor e não precisar repetir o codigo manualmente\n",
        "    x = 0.5 * (x + valor / x)\n",
        "\n",
        "distancia = x\n",
        "\n",
        "print(\"Distância entre os pontos:\", distancia)\n"
      ],
      "metadata": {
        "colab": {
          "base_uri": "https://localhost:8080/"
        },
        "id": "K61zUjsYfli0",
        "outputId": "f5210c91-3e26-4de9-ba73-8b0e62d7a9a2"
      },
      "execution_count": 7,
      "outputs": [
        {
          "output_type": "stream",
          "name": "stdout",
          "text": [
            "Distância entre os pontos: 5.0\n"
          ]
        }
      ]
    },
    {
      "cell_type": "markdown",
      "source": [
        "###Explicao do que está acontecendo e a lógica:\n",
        "Primeiro foram declaradas os valores das variáveis.\n",
        "Então foi calculado ja o valor dentro da raiz.\n",
        "Então vai declarar a variavel para poder ser usada na formula que vai ser iterada.\n",
        "Utilizando o For Loop foi iterado 10 vezes para poder se aproximar ao valor (foi testado de 5 até 10, e na 10a iteracao se chegou ao resultado)."
      ],
      "metadata": {
        "id": "y3he67PIq_KN"
      }
    },
    {
      "cell_type": "markdown",
      "source": [
        "3. **Calcule a média ponderada com base nas notas e pesos:**\n",
        "Prova 1: Nota 7.0 (Peso 3)\n",
        "Prova 2: Nota 8.5 (Peso 5)\n",
        "Prova 3: Nota 6.0 (Peso 2)\n"
      ],
      "metadata": {
        "id": "JVyGUaGRfU3j"
      }
    },
    {
      "cell_type": "code",
      "source": [
        "nota1, peso1 = 7.0, 3\n",
        "nota2, peso2 = 8.5, 5\n",
        "nota3, peso3 = 6.0, 2\n",
        "\n",
        "#média ponderada\n",
        "media_ponderada = (nota1 * peso1 + nota2 * peso2 + nota3 * peso3) / (peso1 + peso2 + peso3)\n",
        "\n",
        "print(\"Média ponderada:\", media_ponderada)\n"
      ],
      "metadata": {
        "colab": {
          "base_uri": "https://localhost:8080/"
        },
        "id": "lNnXREokfnmN",
        "outputId": "156c0b23-eb05-46da-fa07-a50718716440"
      },
      "execution_count": 1,
      "outputs": [
        {
          "output_type": "stream",
          "name": "stdout",
          "text": [
            "Média ponderada: 7.55\n"
          ]
        }
      ]
    },
    {
      "cell_type": "markdown",
      "source": [
        "###Explicao do que está acontecendo e a lógica:\n",
        "Primeiro foram declaradas os valores das variáveis.\n",
        "Então foi aplicada a formula da média ponderada."
      ],
      "metadata": {
        "id": "PXL82rwsrsfC"
      }
    }
  ]
}